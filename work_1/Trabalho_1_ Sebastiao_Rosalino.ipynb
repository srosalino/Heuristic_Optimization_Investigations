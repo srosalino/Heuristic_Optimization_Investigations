{
 "cells": [
  {
   "cell_type": "markdown",
   "id": "c2e82dfe-0885-4a2a-be27-81fc97083fee",
   "metadata": {
    "tags": []
   },
   "source": [
    "<font size=\"6\"> <div class=\"alert alert-block alert-info\"><center>**Primeiro trabalho individual de Otimização Heurística**</center></div></font>"
   ]
  },
  {
   "cell_type": "markdown",
   "id": "98ec7310-5b48-433e-a4d7-77c1ec5f096c",
   "metadata": {},
   "source": [
    "<center><h4> Trabalho realizado por Sebastião Rosalino, nº98437 turma CDB1, Licenciatura de Ciência de Dados</h4></center>"
   ]
  },
  {
   "cell_type": "markdown",
   "id": "aeb27238-1b3a-4dab-a706-30c699f6c1f9",
   "metadata": {},
   "source": [
    "<center><h4> Docente: Anabela Costa </h4></center>"
   ]
  },
  {
   "cell_type": "markdown",
   "id": "ede748f9-0da7-4328-9cc7-5369146d3aad",
   "metadata": {},
   "source": [
    "<center><img src=\"culturas_campos.jpg\" width=250px height=150px></center>"
   ]
  },
  {
   "cell_type": "markdown",
   "id": "902aa667-087c-4a27-938e-374c8194f896",
   "metadata": {},
   "source": [
    "<center><img src=\"logo_iscte.png\" width=200px height=200px></center>"
   ]
  },
  {
   "cell_type": "markdown",
   "id": "4cea0f63-437b-4656-bf19-3c63a05642a4",
   "metadata": {},
   "source": [
    "#### Importação das bibliotecas necessárias "
   ]
  },
  {
   "cell_type": "code",
   "execution_count": null,
   "id": "05a728e1-a15b-42f3-80d3-1909927a8217",
   "metadata": {},
   "outputs": [],
   "source": [
    "import numpy as np\n",
    "from pulp import LpMaximize, LpMinimize, LpProblem, LpStatus, lpSum, LpVariable"
   ]
  },
  {
   "cell_type": "markdown",
   "id": "45b14d60-3f18-43b7-a72d-dde37ec63b5a",
   "metadata": {},
   "source": [
    "# **Parte 1**"
   ]
  },
  {
   "cell_type": "markdown",
   "id": "10d3e0ff-9601-4d98-bda3-7c709e9d9e14",
   "metadata": {
    "tags": []
   },
   "source": [
    "#### **a) Formule o problema em Programação Linear**"
   ]
  },
  {
   "cell_type": "markdown",
   "id": "f148e35b-4fae-4f16-adfe-373b9587f04f",
   "metadata": {
    "jp-MarkdownHeadingCollapsed": true,
    "tags": []
   },
   "source": [
    "Identificação das variáveis de decisão:\n",
    "\n",
    "X1 - Milhares de hectares a cultivar com a cultura 1 no próximo ano\n",
    "\n",
    "X2 - Milhares de hectares a cultivar com a cultura 2 no próximo ano\n",
    "\n",
    "X3 - Milhares de hectares a cultivar com a cultura 3 no próximo ano\n",
    "\n",
    "As Funções objetivo são as seguintes:\n",
    "\n",
    "* Maximizar a quantidade de capital estrangeiro gerado\n",
    "\n",
    "Max Qt. Cap. Est. = 3000 * X1 + 5000 * X2 + 4000 * X3\n",
    "\n",
    "Maximiza-se a quantidade de capital estrangeiro pela função que considera que para cada milhar de hectare da cultura 1 obtém-se 3000 euros de capital estrangeiro e assim sucessivamente para as restantes culturas.\n",
    "\n",
    "* Maximizar o número de cidadãos alimentados\n",
    "\n",
    "Max N.º Cid. Alim. = 150 * X1 + 75 * X2 + 100 * X3\n",
    "\n",
    "Maximiza-se a quantidade de cidadãos alimentados pela função que considera que para cada milhar de hectare da cultura 1 se alimentam 150 pessoas e assim sucessivamente para as restantes culturas.\n",
    "\n",
    "* Maximizar o número de cidadãos contratados para laboração nestas culturas\n",
    "\n",
    "Max Trabalhadores = 10 * X1 + 15 * X2 + 12 * X3\n",
    "\n",
    "Maximiza-se a quantidade de trabalhadores pela função que considera que para cada milhar de hectare da cultura 1 se criam 10 empregos e assim sucessivamente para as restantes culturas.\n",
    "\n",
    "\n",
    "Sujeito a:\n",
    "    \n",
    "X1 + X2 + X3 <= 15000 (Milhares de hectares totais disponíveis)\n",
    "                    \n",
    "X3 >= 1000 (Mínimo de milhares de hectares a cultivar na cultura 3\n",
    "\n",
    "X1, X2, X3 >= 0 (Milhares de hectares não negativos a cultivar a todas as culturas) "
   ]
  },
  {
   "cell_type": "markdown",
   "id": "47bb06b8-8923-432b-ab81-00f02c39cd59",
   "metadata": {
    "tags": []
   },
   "source": [
    "#### **b)  Ao avaliar a possibilidade de não conseguir alcançar a maximização dos três fatores, o governo definiu níveis aceitáveis para cada um dos fatores:**\n",
    "\n",
    "É indicado no enunciado que, ao avaliar a possibilidade de não conseguir alcançar a maximização dos três fatores, o Governo definiu níveis aceitáveis para cada um dos fatores, a saber:\n",
    "\n",
    "* Capital estrangeiro gerado não inferior a 70 milhões de euros;\n",
    "* Número de cidadãos alimentados não inferior a 1.75 milhões;\n",
    "* Aproximadamente 200 mil cidadãos contratados para laboração nas culturas.\n",
    "\n",
    "A área disponível a cultivar continua a ser os 15000 milhares de hectares de terrenos agrícolas.\n",
    "\n",
    "\n",
    "#### **b1) Recorrendo à Programação por Metas não Preemptiva, apresente duas propostas de distribuição dos hectares de terreno alocados a cada um dos tipos de cultura.**\n",
    "\n",
    "A resolução do problema consiste na definição de metas não preemptivas, o que significa que são metas sem prioridade entre si (ou seja, igualmente prioritárias). As metas são as seguintes:\n",
    "\n",
    "* Meta 1: Capital estrangeiro gerado não muito menos que 70 milhões de euros;\n",
    "* Meta 2: Número de cidadãos alimentados não muito menos que 1.75 milhões;\n",
    "* Meta 3: Aproximadamente 200 mil cidadãos contratados para laboração nas culturas."
   ]
  },
  {
   "cell_type": "markdown",
   "id": "39590050-dd20-45f8-8521-ee44b9568d51",
   "metadata": {
    "tags": []
   },
   "source": [
    "#### Proposta de resolução pelo método da soma ponderada dos desvios"
   ]
  },
  {
   "cell_type": "code",
   "execution_count": null,
   "id": "a03479eb-49a9-49c8-a4dc-1af99fb9af2c",
   "metadata": {},
   "outputs": [
    {
     "data": {
      "text/plain": [
       "Trabalho_1_parte_1_desvios:\n",
       "MINIMIZE\n",
       "5e-06*dM3 + 1.4285714285714286e-08*dm1 + 5.714285714285714e-07*dm2 + 5e-06*dm3 + 0.0\n",
       "SUBJECT TO\n",
       "capital_estrangeiro: dm1 + 3000 x1 + 5000 x2 + 4000 x3 >= 70000000\n",
       "\n",
       "cidadaos_alimentados: dm2 + 150 x1 + 75 x2 + 100 x3 >= 1750000\n",
       "\n",
       "cidadaos_contratados: - dM3 + dm3 + 10 x1 + 15 x2 + 12 x3 = 200000\n",
       "\n",
       "hectares_disponiveis: x1 + x2 + x3 <= 15000\n",
       "\n",
       "minimo_da_cultura_3: x3 >= 1000\n",
       "\n",
       "VARIABLES\n",
       "dM3 Continuous\n",
       "dm1 Continuous\n",
       "dm2 Continuous\n",
       "dm3 Continuous\n",
       "x1 Continuous\n",
       "x2 Continuous\n",
       "x3 Continuous"
      ]
     },
     "execution_count": 2,
     "metadata": {},
     "output_type": "execute_result"
    }
   ],
   "source": [
    "model = LpProblem(name=\"Trabalho_1_parte_1_desvios\", sense=LpMinimize)\n",
    "\n",
    "x = {i: LpVariable(name=f\"x{i}\", lowBound=0) for i in range(1, 4)}\n",
    "dm1 = LpVariable(name=\"dm1\", lowBound=0)\n",
    "dm2 = LpVariable(name=\"dm2\", lowBound=0)\n",
    "dM3 = LpVariable(name=\"dM3\", lowBound=0)\n",
    "dm3 = LpVariable(name=\"dm3\", lowBound=0)\n",
    "\n",
    "model += (3000 * x[1] + 5000 * x[2] + 4000 * x[3] >= 70000000 - dm1, \"capital estrangeiro\")\n",
    "model += (150 * x[1] + 75 * x[2] + 100 * x[3] >= 1750000 - dm2, \"cidadaos alimentados\")\n",
    "model += (10 * x[1] + 15 * x[2] + 12 * x[3] == 200000 + dM3 - dm3, \"cidadaos contratados\")\n",
    "model += (x[1] + x[2] + x[3] <= 15000, \"hectares disponiveis\")\n",
    "model += (x[3] >= 1000, 'minimo da cultura 3')\n",
    "\n",
    "vam = np.array([70000000, 1750000, 200000])\n",
    "\n",
    "obj_func = (1/vam[0]) * dm1 + (1/vam[1]) * dm2 + (1/vam[2]) * dM3 + (1/vam[2]) * dm3\n",
    "model += obj_func\n",
    "\n",
    "model"
   ]
  },
  {
   "cell_type": "code",
   "execution_count": null,
   "id": "fb42fea3-a364-419d-97c4-797aa1ec09fa",
   "metadata": {},
   "outputs": [
    {
     "name": "stdout",
     "output_type": "stream",
     "text": [
      "objective: 0.22285714285714286\n",
      "x1: 4400.0\n",
      "x2: 9600.0\n",
      "x3: 1000.0\n",
      "dm1: 4800000.0\n",
      "dm2: 270000.0\n",
      "dM3: 0.0\n",
      "dm3: 0.0\n",
      "capital_estrangeiro: 0.0\n",
      "cidadaos_alimentados: 0.0\n",
      "cidadaos_contratados: 0.0\n",
      "hectares_disponiveis: 0.0\n",
      "minimo_da_cultura_3: 0.0\n"
     ]
    }
   ],
   "source": [
    "# Resolução do modelo\n",
    "\n",
    "status = model.solve()\n",
    "\n",
    "print(f\"objective: {model.objective.value()}\")\n",
    "\n",
    "for var in x.values():\n",
    "    print(f\"{var.name}: {var.value()}\")\n",
    "print(f\"{dm1}: {dm1.value()}\")\n",
    "print(f\"{dm2}: {dm2.value()}\")\n",
    "print(f\"{dM3}: {dM3.value()}\")\n",
    "print(f\"{dm3}: {dm3.value()}\")\n",
    "\n",
    "\n",
    "for name, constraint in model.constraints.items():\n",
    "    print (f\"{name}: {constraint.value()}\")"
   ]
  },
  {
   "cell_type": "markdown",
   "id": "c946324e-9aea-444d-aedb-1e91ff019d50",
   "metadata": {},
   "source": [
    "Podemos verificar que, aplicando o método da soma ponderada dos desvios, os resultados das variáveis de decisão são os seguintes (alocação ótima):\n",
    "\n",
    "X1 - Milhares de hectares a cultivar com a cultura 1 = 4400\n",
    "\n",
    "X2 - Milhares de hectares a cultivar com a cultura 2 = 9600\n",
    "\n",
    "X3 - Milhares de hectares a cultivar com a cultura 3 = 1000\n",
    "\n",
    "A totalidade do terreno disponível (15000 milhares de hectares) está a ser utilizada.\n",
    "Em termos dos objetivos propostos (metas), os resultados obtidos indicam-nos que:\n",
    "\n",
    "Relativamente à Meta 1, o desvio é de 4800000 euros de capital estrangeiro gerado, ou seja, menos 6,86% face ao objetivo dos 70000000 de euros;\n",
    "\n",
    "Relativamente à Meta 2, o desvio é de 270000 cidadãos alimentados, ou seja, menos 15,43% face ao objetivo dos 1750000 milhões de cidadãos;\n",
    "\n",
    "A Meta 3, aproximadamente 200000 cidadãos contratados para laboração nas culturas, é integralmente cumprida, na medida em que é exatamente esse o número de cidadão a laborar nas 3 culturas. Ou seja, os desvios (dM3 e dm3) são zero.\n",
    "\n",
    "O valor ótimo (objetive) situa-se em 0.22286, o que à partida, por estar relativamente afastado de zero, deixa algumas dúvidas sobre a qualidade e validade deste indicador. Por isso, o mais importante é interpretar a solução ótima.\n",
    "\n",
    "Em termos gerais, podemos concluir que a solução é equilibrada, desde logo porque se consegue utilizar todo o terreno disponível. Mas também porque as metas são relativamente cumpridas, no sentido em que os desvios verificados não são excessivos. \n",
    "\n",
    "Para a meta 1, o desvio é ligeiramente superior a 5%, o que pode ser considerado bastante positivo. Para a meta 2 o desvio é de cerca de 15%, que pode ser considerado um pouco excessivo, mas não em demasia num contexto geral. A meta 3 é integralmente cumprida, sem qualquer desvio.\n",
    "\n",
    "Perante estes desvios, a solução parece globalmente boa, resultando na obtenção de:\n",
    "\n",
    "* 65200000 de capital estrangeiro gerado;\n",
    "* 1480000 cidadãos alimentados;\n",
    "* 200000 cidadãos contratados."
   ]
  },
  {
   "cell_type": "markdown",
   "id": "e13fcc86-94fd-4ed6-8c2e-8c0fb663cceb",
   "metadata": {
    "tags": []
   },
   "source": [
    "#### Proposta de resolução pelo método MiniMax"
   ]
  },
  {
   "cell_type": "code",
   "execution_count": null,
   "id": "b9a93894-6edc-4299-84f0-ebc56ba5db44",
   "metadata": {},
   "outputs": [
    {
     "data": {
      "text/plain": [
       "Trabalho_1_parte_1_minimax:\n",
       "MINIMIZE\n",
       "1*Q + 0\n",
       "SUBJECT TO\n",
       "capital_estrangeiro: dm1 + 3000 x1 + 5000 x2 + 4000 x3 >= 70000000\n",
       "\n",
       "cidadaos_alimentados: dm2 + 150 x1 + 75 x2 + 100 x3 >= 1750000\n",
       "\n",
       "cidadaos_contratados: - dM3 + dm3 + 10 x1 + 15 x2 + 12 x3 = 200000\n",
       "\n",
       "hectares_disponiveis: x1 + x2 + x3 <= 15000\n",
       "\n",
       "minimo_da_cultura_3: x3 >= 1000\n",
       "\n",
       "desvio_inf_capital_estrangeiro: - Q + 1.42857142857e-08 dm1 <= 0\n",
       "\n",
       "desvio_inf_cidadaos_alimentados: - Q + 5.71428571429e-07 dm2 <= 0\n",
       "\n",
       "desvio_sup_cidadaos_contratados: - Q + 5e-06 dM3 <= 0\n",
       "\n",
       "desvio_inf_cidadaos_contratados: - Q + 5e-06 dm3 <= 0\n",
       "\n",
       "VARIABLES\n",
       "Q Continuous\n",
       "dM3 Continuous\n",
       "dm1 Continuous\n",
       "dm2 Continuous\n",
       "dm3 Continuous\n",
       "x1 Continuous\n",
       "x2 Continuous\n",
       "x3 Continuous"
      ]
     },
     "execution_count": 4,
     "metadata": {},
     "output_type": "execute_result"
    }
   ],
   "source": [
    "model = LpProblem(name=\"Trabalho_1_parte_1_minimax\", sense=LpMinimize)\n",
    "peso = [1, 1, 1, 1,]\n",
    "vam = [70000000, 1750000, 200000]\n",
    "\n",
    "x = {i: LpVariable(name=f\"x{i}\", lowBound=0) for i in range(1, 4)}\n",
    "dm1 = LpVariable(name=\"dm1\", lowBound=0)\n",
    "dm2 = LpVariable(name=\"dm2\", lowBound=0)\n",
    "dM3 = LpVariable(name=\"dM3\", lowBound=0)\n",
    "dm3 = LpVariable(name=\"dm3\", lowBound=0)\n",
    "Q = LpVariable(name=\"Q\", lowBound=0)\n",
    "\n",
    "model += (3000 * x[1] + 5000 * x[2] + 4000 * x[3] >= 70000000 - dm1, \"capital estrangeiro\")\n",
    "model += (150 * x[1] + 75 * x[2] + 100 * x[3] >= 1750000 - dm2, \"cidadaos alimentados\")\n",
    "model += (10 * x[1] + 15 * x[2] + 12 * x[3] == 200000 + dM3 - dm3, \"cidadaos contratados\")\n",
    "model += (x[1] + x[2] + x[3] <= 15000, \"hectares disponiveis\")\n",
    "model += (x[3] >= 1000, 'minimo da cultura 3')\n",
    "model += ((peso[0]/vam[0]) * dm1 - Q <= 0, \"desvio_inf_capital_estrangeiro\")\n",
    "model += ((peso[1]/vam[1]) * dm2 - Q <= 0, \"desvio_inf_cidadaos_alimentados\")\n",
    "model += ((peso[2]/vam[2]) * dM3 - Q <= 0, \"desvio_sup_cidadaos_contratados\")\n",
    "model += ((peso[3]/vam[2]) * dm3 - Q <= 0, \"desvio_inf_cidadaos_contratados\")\n",
    "\n",
    "obj_func = Q\n",
    "model += obj_func\n",
    "\n",
    "model"
   ]
  },
  {
   "cell_type": "code",
   "execution_count": null,
   "id": "db577298-ae85-4fb8-8d3c-efff8454ffd6",
   "metadata": {},
   "outputs": [
    {
     "name": "stdout",
     "output_type": "stream",
     "text": [
      "objective: 0.10285714\n",
      "x1: 5600.0\n",
      "x2: 8400.0\n",
      "x3: 1000.0\n",
      "dm1: 7200000.0\n",
      "dm2: 180000.0\n",
      "dM3: 0.0\n",
      "dm3: 6000.0\n",
      "capital_estrangeiro: 0.0\n",
      "cidadaos_alimentados: 0.0\n",
      "cidadaos_contratados: 0.0\n",
      "hectares_disponiveis: 0.0\n",
      "minimo_da_cultura_3: 0.0\n",
      "desvio_inf_capital_estrangeiro: 2.8571428556389833e-09\n",
      "desvio_inf_cidadaos_alimentados: 2.8571428556389833e-09\n",
      "desvio_sup_cidadaos_contratados: -0.10285714\n",
      "desvio_inf_cidadaos_contratados: -0.07285714\n"
     ]
    }
   ],
   "source": [
    "# Resolução do modelo\n",
    "\n",
    "status = model.solve()\n",
    "\n",
    "print(f\"objective: {model.objective.value()}\")\n",
    "\n",
    "for var in x.values():\n",
    "    print(f\"{var.name}: {var.value()}\")\n",
    "print(f\"{dm1}: {dm1.value()}\")\n",
    "print(f\"{dm2}: {dm2.value()}\")\n",
    "print(f\"{dM3}: {dM3.value()}\")\n",
    "print(f\"{dm3}: {dm3.value()}\")\n",
    "\n",
    "\n",
    "for name, constraint in model.constraints.items():\n",
    "    print (f\"{name}: {constraint.value()}\")"
   ]
  },
  {
   "cell_type": "markdown",
   "id": "49126179-903f-4ff8-ad1a-6f91a23391d0",
   "metadata": {},
   "source": [
    "Podemos verificar que, aplicando o método do MiniMax, os resultados das variáveis de decisão são os seguintes (alocação ótima):\n",
    "\n",
    "X1 - Milhares de hectares a cultivar com a cultura 1 = 5600\n",
    "\n",
    "X2 - Milhares de hectares a cultivar com a cultura 2 = 8400\n",
    "\n",
    "X3 - Milhares de hectares a cultivar com a cultura 3 = 1000\n",
    "\n",
    "A totalidade do terreno disponível (15000 milhares de hectares) está a ser utilizada.\n",
    "\n",
    "Em termos dos objetivos propostos (metas), os resultados obtidos indicam-nos que:\n",
    "\n",
    "Relativamente à Meta 1, o desvio é de 7200000 euros de capital estrangeiro gerado, ou seja, cerca de 10.3% face ao objetivo dos 70000000 de euros;\n",
    "\n",
    "Relativamente à Meta 2, o desvio é de 180000 cidadãos alimentados, ou seja, cerca de 10,3% face ao objetivo dos 1750000 milhões de cidadãos;\n",
    "\n",
    "Relativamente à Meta 3, o desvio é 6000 cidadãos contratados, por defeito, o que representa um gap de cerca de cerca de 3% face ao objetivo de 200000 cidadãos contratados para laboração nas culturas.\n",
    "\n",
    "O valor ótimo (objective) foi 0.102857, correspondendo ao desvio máximo ocorrido. Atendendo aos valores dos desvios das restrições dm1 e dm2, conclui-se que este desvio ocorreu nas Metas 1 e 2.\n",
    "\n",
    "Em termos gerais, podemos concluir que a solução é equilibrada, desde logo porque se consegue utilizar todo o terreno disponível. Mas também porque as metas são cumpridas com desvios máximos na ordem dos 10%. Para a meta 1, o desvio é 10,3%, o que pode ser considerado aceitável. Para a meta 2 o desvio é igualmente de 10,3%. Por seu lado, a meta 3 apresenta um desvio de apenas 3%.\n",
    "\n",
    "Perante estes desvios, a solução parece globalmente boa, resultando na obtenção de:\n",
    "\n",
    "* 62800000 de capital estrangeiro gerado;\n",
    "* 1570000 cidadãos alimentados;\n",
    "* 194000 cidadãos contratados."
   ]
  },
  {
   "cell_type": "markdown",
   "id": "8a1ec176-4559-440a-ad9e-69f22875d888",
   "metadata": {},
   "source": [
    "#### **b2) Com o objetivo de gerar soluções alternativas, o governo decidiu que a primeira prioriodade deve ser dada ao número de cidadãos alimentados, a segunda prioridade ao capital estrangeiro e a terceira prioridade ao emprego local. Apresente uma solução que respeite as prioridades definidas.** "
   ]
  },
  {
   "cell_type": "code",
   "execution_count": null,
   "id": "9bbdff70-1359-4d09-9102-c57fb0031012",
   "metadata": {},
   "outputs": [
    {
     "data": {
      "text/plain": [
       "Trabalho_1_parte_1_primeira_prioridade:\n",
       "MINIMIZE\n",
       "1*dm2 + 0\n",
       "SUBJECT TO\n",
       "capital_estrangeiro: dm1 + 3000 x1 + 5000 x2 + 4000 x3 >= 70000000\n",
       "\n",
       "cidadaos_alimentados: dm2 + 150 x1 + 75 x2 + 100 x3 >= 1750000\n",
       "\n",
       "cidadaos_contratados: - dM3 + dm3 + 10 x1 + 15 x2 + 12 x3 = 200000\n",
       "\n",
       "hectares_disponiveis: x1 + x2 + x3 <= 15000\n",
       "\n",
       "minimo_da_cultura_3: x3 >= 1000\n",
       "\n",
       "VARIABLES\n",
       "dM3 Continuous\n",
       "dm1 Continuous\n",
       "dm2 Continuous\n",
       "dm3 Continuous\n",
       "x1 Continuous\n",
       "x2 Continuous\n",
       "x3 Continuous"
      ]
     },
     "execution_count": 6,
     "metadata": {},
     "output_type": "execute_result"
    }
   ],
   "source": [
    "model = LpProblem(name=\"Trabalho_1_parte_1_primeira_prioridade\", sense=LpMinimize)\n",
    "\n",
    "x = {i: LpVariable(name=f\"x{i}\", lowBound=0) for i in range(1, 4)}\n",
    "dm2 = LpVariable(name=\"dm2\", lowBound=0)\n",
    "\n",
    "model += (3000 * x[1] + 5000 * x[2] + 4000 * x[3] >= 70000000 - dm1, \"capital estrangeiro\")\n",
    "model += (150 * x[1] + 75 * x[2] + 100 * x[3] >= 1750000 - dm2, \"cidadaos alimentados\")\n",
    "model += (10 * x[1] + 15 * x[2] + 12 * x[3] == 200000 + dM3 - dm3, \"cidadaos contratados\")\n",
    "model += (x[1] + x[2] + x[3] <= 15000, \"hectares disponiveis\")\n",
    "model += (x[3] >= 1000, 'minimo da cultura 3')\n",
    "\n",
    "obj_func = dm2\n",
    "model += obj_func\n",
    "\n",
    "model"
   ]
  },
  {
   "cell_type": "code",
   "execution_count": null,
   "id": "825ce8f6-8896-4c90-b5cd-5fd48ec87648",
   "metadata": {},
   "outputs": [
    {
     "name": "stdout",
     "output_type": "stream",
     "text": [
      "objective: 0.0\n",
      "x1: 14000.0\n",
      "x2: 0.0\n",
      "x3: 1000.0\n",
      "dm1: 24000000.0\n",
      "dm2: 0.0\n",
      "dM3: 0.0\n",
      "dm3: 48000.0\n",
      "capital_estrangeiro: 0.0\n",
      "cidadaos_alimentados: 450000.0\n",
      "cidadaos_contratados: 0.0\n",
      "hectares_disponiveis: 0.0\n",
      "minimo_da_cultura_3: 0.0\n"
     ]
    }
   ],
   "source": [
    "# Resolução do modelo\n",
    "\n",
    "status = model.solve()\n",
    "\n",
    "print(f\"objective: {model.objective.value()}\")\n",
    "\n",
    "for var in x.values():\n",
    "    print(f\"{var.name}: {var.value()}\")\n",
    "print(f\"{dm1}: {dm1.value()}\")\n",
    "print(f\"{dm2}: {dm2.value()}\")\n",
    "print(f\"{dM3}: {dM3.value()}\")\n",
    "print(f\"{dm3}: {dm3.value()}\")\n",
    "\n",
    "\n",
    "for name, constraint in model.constraints.items():\n",
    "    print (f\"{name}: {constraint.value()}\")"
   ]
  },
  {
   "cell_type": "markdown",
   "id": "4531d8d0-87e1-471c-9f35-34416d2d95a8",
   "metadata": {},
   "source": [
    "Após construção e resolução do modelo em que se considera apenas a função objetivo de minimizar o desvio da Meta Primária e as restrições hard obteve-se a seguinte solução:\n",
    "\n",
    "X1 - Milhares de hectares a cultivar com a cultura 1 = 14000\n",
    "\n",
    "X2 - Milhares de hectares a cultivar com a cultura 2 = 0\n",
    "\n",
    "X3 - Milhares de hectares a cultivar com a cultura 3 = 1000\n",
    "\n",
    "O valor ótimo (objective) foi 0, conclui-se assim que a primeira prioridade (número de cidadãos alimentados) foi atingida, obtendo-se a solução de cultivar 14000 milhares de hectares da cultura 1, 0 hectares da cultura 2 e 1000 milhares de hectares da cultura 3. \n",
    "É, portanto, possível satisfazer a prioridade de nível 1. É de salientar que nesta solução foram utilizados os 15000 milhares de hectares disponíveis.   \n",
    "\n",
    "Sabendo que é possível satisfazer a prioridade de nível 1, construiu-se e resolveu-se um novo modelo, cuja função objetivo é minimizar o desvio da Meta Secundária e que nas restrições obrigue a que se cumpra as restrições hard, a restrição do nível 1 e as restrições do nível 2."
   ]
  },
  {
   "cell_type": "code",
   "execution_count": null,
   "id": "93e9b1cd-648c-4ddd-88a0-48d35ba15ee9",
   "metadata": {},
   "outputs": [
    {
     "data": {
      "text/plain": [
       "Trabalho_1_parte_1_segunda_prioridade:\n",
       "MINIMIZE\n",
       "1*dm1 + 0\n",
       "SUBJECT TO\n",
       "capital_estrangeiro: dm1 + 3000 x1 + 5000 x2 + 4000 x3 >= 70000000\n",
       "\n",
       "cidadaos_alimentados: 150 x1 + 75 x2 + 100 x3 >= 1750000\n",
       "\n",
       "cidadaos_contratados: - dM3 + dm3 + 10 x1 + 15 x2 + 12 x3 = 200000\n",
       "\n",
       "hectares_disponiveis: x1 + x2 + x3 <= 15000\n",
       "\n",
       "minimo_da_cultura_3: x3 >= 1000\n",
       "\n",
       "VARIABLES\n",
       "dM3 Continuous\n",
       "dm1 Continuous\n",
       "dm3 Continuous\n",
       "x1 Continuous\n",
       "x2 Continuous\n",
       "x3 Continuous"
      ]
     },
     "execution_count": 8,
     "metadata": {},
     "output_type": "execute_result"
    }
   ],
   "source": [
    "model = LpProblem(name=\"Trabalho_1_parte_1_segunda_prioridade\", sense=LpMinimize)\n",
    "\n",
    "x = {i: LpVariable(name=f\"x{i}\", lowBound=0) for i in range(1, 4)}\n",
    "dm1 = LpVariable(name=\"dm1\", lowBound=0)\n",
    "\n",
    "model += (3000 * x[1] + 5000 * x[2] + 4000 * x[3] >= 70000000 - dm1, \"capital estrangeiro\")\n",
    "model += (150 * x[1] + 75 * x[2] + 100 * x[3] >= 1750000, \"cidadaos alimentados\")\n",
    "model += (10 * x[1] + 15 * x[2] + 12 * x[3] == 200000 + dM3 - dm3, \"cidadaos contratados\")\n",
    "model += (x[1] + x[2] + x[3] <= 15000, \"hectares disponiveis\")\n",
    "model += (x[3] >= 1000, 'minimo da cultura 3')\n",
    "\n",
    "obj_func = dm1\n",
    "model += obj_func\n",
    "\n",
    "model"
   ]
  },
  {
   "cell_type": "code",
   "execution_count": null,
   "id": "d19d052e-a978-4e3e-bf52-64ce10f81586",
   "metadata": {},
   "outputs": [
    {
     "name": "stdout",
     "output_type": "stream",
     "text": [
      "objective: 12000000.0\n",
      "x1: 8000.0\n",
      "x2: 6000.0\n",
      "x3: 1000.0\n",
      "dm1: 12000000.0\n",
      "dM3: 0.0\n",
      "dm3: 18000.0\n",
      "capital_estrangeiro: 0.0\n",
      "cidadaos_alimentados: 0.0\n",
      "cidadaos_contratados: 0.0\n",
      "hectares_disponiveis: 0.0\n",
      "minimo_da_cultura_3: 0.0\n"
     ]
    }
   ],
   "source": [
    "# Resolução do modelo\n",
    "\n",
    "status = model.solve()\n",
    "\n",
    "print(f\"objective: {model.objective.value()}\")\n",
    "\n",
    "for var in x.values():\n",
    "    print(f\"{var.name}: {var.value()}\")\n",
    "print(f\"{dm1}: {dm1.value()}\")\n",
    "print(f\"{dM3}: {dM3.value()}\")\n",
    "print(f\"{dm3}: {dm3.value()}\")\n",
    "\n",
    "\n",
    "for name, constraint in model.constraints.items():\n",
    "    print (f\"{name}: {constraint.value()}\")"
   ]
  },
  {
   "cell_type": "markdown",
   "id": "84b58f97-7302-479d-a271-8fba9730fdcd",
   "metadata": {},
   "source": [
    "Após construção e resolução do modelo em que se considera apenas a função objetivo de minimizar o desvio da Meta Secundária e as restrições hard obteve-se a seguinte solução:\n",
    "\n",
    "X1 - Milhares de hectares a cultivar com a cultura 1 = 8000\n",
    "\n",
    "X2 - Milhares de hectares a cultivar com a cultura 2 = 6000\n",
    "\n",
    "X3 - Milhares de hectares a cultivar com a cultura 3 = 1000\n",
    "\n",
    "A totalidade do terreno disponível (15000 milhares de hectares) está a ser utilizada.\n",
    "\n",
    "O valor ótimo (objective) foi 12000000, ou seja, não foi possível cumprir a segunda prioridade (capital estrangeiro gerado não inferior a 70000000 de euros). A solução obtida gera 58000000 de euros de capital estrangeiro, falhando assim a prioridade secundária por 12000000 de euros.\n",
    "\n",
    "Dada a impossibilidade de cumprir a Meta Secundária no valor inicialmente definido, procedeu-se à redefinição desta meta para o melhor valor gerado (58000000 de euros).\n",
    "\n",
    "Assumida a nova Meta Secundária, procedeu-se à formulação do problema de modo a que se procure cumprir a Meta Terciária (emprego local)."
   ]
  },
  {
   "cell_type": "markdown",
   "id": "b6b13217-bed3-4dcd-aef0-335ada35e88e",
   "metadata": {
    "tags": []
   },
   "source": [
    "#### Solução Ótima Final:"
   ]
  },
  {
   "cell_type": "code",
   "execution_count": null,
   "id": "ca17e16c-0bd4-414c-ab1d-e5d76231c7cd",
   "metadata": {},
   "outputs": [
    {
     "data": {
      "text/plain": [
       "Trabalho_1_parte_1_terceira_prioridade:\n",
       "MINIMIZE\n",
       "1*dM3 + 1*dm3 + 0\n",
       "SUBJECT TO\n",
       "capital_estrangeiro: 3000 x1 + 5000 x2 + 4000 x3 >= 58000000\n",
       "\n",
       "cidadaos_alimentados: 150 x1 + 75 x2 + 100 x3 >= 1750000\n",
       "\n",
       "cidadaos_contratados: - dM3 + dm3 + 10 x1 + 15 x2 + 12 x3 = 200000\n",
       "\n",
       "hectares_disponiveis: x1 + x2 + x3 <= 15000\n",
       "\n",
       "minimo_da_cultura_3: x3 >= 1000\n",
       "\n",
       "VARIABLES\n",
       "dM3 Continuous\n",
       "dm3 Continuous\n",
       "x1 Continuous\n",
       "x2 Continuous\n",
       "x3 Continuous"
      ]
     },
     "execution_count": 10,
     "metadata": {},
     "output_type": "execute_result"
    }
   ],
   "source": [
    "model = LpProblem(name=\"Trabalho_1_parte_1_terceira_prioridade\", sense=LpMinimize)\n",
    "\n",
    "x = {i: LpVariable(name=f\"x{i}\", lowBound=0) for i in range(1, 4)}\n",
    "dm1 = LpVariable(name=\"dm1\", lowBound=0)\n",
    "\n",
    "model += (3000 * x[1] + 5000 * x[2] + 4000 * x[3] >= 70000000 - 12000000, \"capital estrangeiro\")\n",
    "model += (150 * x[1] + 75 * x[2] + 100 * x[3] >= 1750000, \"cidadaos alimentados\")\n",
    "model += (10 * x[1] + 15 * x[2] + 12 * x[3] == 200000 + dM3 - dm3, \"cidadaos contratados\")\n",
    "model += (x[1] + x[2] + x[3] <= 15000, \"hectares disponiveis\")\n",
    "model += (x[3] >= 1000, 'minimo da cultura 3')\n",
    "\n",
    "obj_func = dM3 + dm3\n",
    "model += obj_func\n",
    "\n",
    "model"
   ]
  },
  {
   "cell_type": "code",
   "execution_count": null,
   "id": "4d5b60c4-476b-444d-8105-cd4dbbc5e147",
   "metadata": {},
   "outputs": [
    {
     "name": "stdout",
     "output_type": "stream",
     "text": [
      "objective: 18000.0\n",
      "x1: 8000.0\n",
      "x2: 6000.0\n",
      "x3: 1000.0\n",
      "dM3: 0.0\n",
      "dm3: 18000.0\n",
      "capital_estrangeiro: 0.0\n",
      "cidadaos_alimentados: 0.0\n",
      "cidadaos_contratados: 0.0\n",
      "hectares_disponiveis: 0.0\n",
      "minimo_da_cultura_3: 0.0\n"
     ]
    }
   ],
   "source": [
    "# Resolução do modelo\n",
    "\n",
    "status = model.solve()\n",
    "\n",
    "print(f\"objective: {model.objective.value()}\")\n",
    "\n",
    "for var in x.values():\n",
    "    print(f\"{var.name}: {var.value()}\")\n",
    "print(f\"{dM3}: {dM3.value()}\")\n",
    "print(f\"{dm3}: {dm3.value()}\")\n",
    "\n",
    "\n",
    "for name, constraint in model.constraints.items():\n",
    "    print (f\"{name}: {constraint.value()}\")"
   ]
  },
  {
   "cell_type": "markdown",
   "id": "07a4145a-1671-4725-8d61-99164d648b37",
   "metadata": {},
   "source": [
    "Os resultados das variáveis de decisão são os seguintes (alocação ótima):\n",
    "    \n",
    "X1 - Milhares de hectares a cultivar com a cultura 1 = 8000\n",
    "\n",
    "X2 - Milhares de hectares a cultivar com a cultura 2 = 6000\n",
    "\n",
    "X3 - Milhares de hectares a cultivar com a cultura 3 = 1000\n",
    "\n",
    "A totalidade do terreno disponível (15000 milhares de hectares) está a ser utilizada.\n",
    "\n",
    "Em termos dos objetivos propostos (metas), os resultados obtidos indicam-nos que:\n",
    "\n",
    "* A meta prioritária foi cumprida: são alimentados 1750000 cidadãos;\n",
    "* A meta secundária não foi integralmente cumprida na sua formulação inicial, tendo sido gerado 58000000 de capital estrangeiro;\n",
    "* A meta terciária também não foi, como esperado, cumprida, tendo sido contratados 182000 cidadãos."
   ]
  },
  {
   "cell_type": "markdown",
   "id": "c14bf7c9-3ad2-481f-962e-020388f41123",
   "metadata": {},
   "source": [
    "## **Parte 2**"
   ]
  },
  {
   "cell_type": "markdown",
   "id": "d507f754-0e95-471b-a056-329491bc7057",
   "metadata": {
    "tags": []
   },
   "source": [
    "#### **a) Quantas versões existem do sistema de portal? E do sistema de rastreio? Justifique as suas respostas.**"
   ]
  },
  {
   "cell_type": "markdown",
   "id": "b57cfcbe-2199-4180-ba01-584dc3b451a2",
   "metadata": {
    "jp-MarkdownHeadingCollapsed": true,
    "tags": []
   },
   "source": [
    "### Sistema 1 (Sistema de portal)\n",
    "\n",
    "Considerou-se que a combinação entre “custo de aquisição”, “custo de manutenção” e “taxa de falsos alarmes” corresponde a uma versão do sistema 1, pelo que se conclui que existem as 9 versões, abaixo descritas:\n",
    "\n",
    "<table>\n",
    "    <tr>\n",
    "        <th> Custo de aquisição em euros </th>\n",
    "        <th> Custo de manutenção em euros </th>\n",
    "        <th> Taxa de falso alarme em %</th>\n",
    "    </tr>\n",
    "    <tr>\n",
    "        <td> 90000 </td>\n",
    "        <td> 15000 </td>\n",
    "        <td> 10 </td>\n",
    "     </tr>\n",
    "     <tr>   \n",
    "        <td> 105000 </td>\n",
    "        <td> 16500 </td>\n",
    "        <td> 9 </td>\n",
    "    </tr>\n",
    "    <tr>\n",
    "        <td> 120000 </td>\n",
    "        <td> 18000 </td>\n",
    "        <td> 8 </td>\n",
    "    </tr>\n",
    "    <tr>\n",
    "        <td> 135000 </td>\n",
    "        <td> 19500 </td>\n",
    "        <td> 7 </td>\n",
    "    </tr>\n",
    "    <tr>  \n",
    "        <td> 150000 </td>\n",
    "        <td> 21000 </td>\n",
    "        <td> 6 </td>\n",
    "    </tr>\n",
    "    <tr>\n",
    "        <td> 165000 </td>\n",
    "        <td> 22500 </td>\n",
    "        <td> 5 </td>\n",
    "    </tr>\n",
    "    <tr>\n",
    "        <td> 180000 </td>\n",
    "        <td> 24000 </td>\n",
    "        <td> 4 </td>\n",
    "    </tr>\n",
    "    <tr>\n",
    "        <td> 195000 </td>\n",
    "        <td> 25500 </td>\n",
    "        <td> 3 </td>\n",
    "    </tr>\n",
    "    <tr>\n",
    "        <td> 210000 </td>\n",
    "        <td> 27000 </td>\n",
    "        <td> 2 </td>\n",
    "    </tr>\n",
    "</table>"
   ]
  },
  {
   "cell_type": "markdown",
   "id": "9d04a2b4-ea4d-4416-b6b1-a72b88a514cd",
   "metadata": {},
   "source": [
    "### Sistema 2 (Sistema de rastreio)\n",
    "\n",
    "Considerou-se que a combinação entre “custo de aquisição”, “custo de manutenção” e “taxa de falsos alarmes” corresponde a uma versão do sistema 2, pelo que se conclui que existem 4 versões, abaixo descritas:\n",
    "\n",
    "<table>\n",
    "    <tr>\n",
    "        <th> Custo de aquisição em euros </th>\n",
    "        <th> Custo de manutenção em euros </th>\n",
    "        <th> Taxa de falso alarme em %</th>\n",
    "    </tr>\n",
    "    <tr>\n",
    "        <td> 60000 </td>\n",
    "        <td> 9000 </td>\n",
    "        <td> 6 </td>\n",
    "     </tr>\n",
    "     <tr>   \n",
    "        <td> 90000 </td>\n",
    "        <td> 10200 </td>\n",
    "        <td> 5 </td>\n",
    "    </tr>\n",
    "    <tr>\n",
    "        <td> 120000 </td>\n",
    "        <td> 11400 </td>\n",
    "        <td> 4 </td>\n",
    "    </tr>\n",
    "    <tr>\n",
    "        <td> 150000 </td>\n",
    "        <td> 12600 </td>\n",
    "        <td> 3 </td>\n",
    "    </tr>\n",
    "</table>"
   ]
  },
  {
   "cell_type": "markdown",
   "id": "4cea0c9f-c007-4493-bead-2e5054564c62",
   "metadata": {},
   "source": [
    "#### **b) No âmbito da Otimização Multiobjetivo, indique como procederia para resolver este problema (mas não resolva)**"
   ]
  },
  {
   "cell_type": "markdown",
   "id": "e7a7231a-8895-4613-8094-5b9ec95ad890",
   "metadata": {},
   "source": [
    "A otimização multiobjectivo consiste, genericamente, na resolução problemas em que se pretende alcançar de forma ótima um conjunto de objetivos que, geralmente, são conflituantes. Ou seja, a resolução de um problema multiobjectivo consiste na determinação de soluções de compromisso entre os objetivos em presença.\n",
    "\n",
    "Para o presente caso, a formulação do problema no âmbito da Otimização Multiobjectivo obedeceria ao seguinte:\n",
    "Identificação das variáveis de decisão:\n",
    "\n",
    "X1 - Versão do sistema a 1 utilizar\n",
    "\n",
    "X2 - Versão do sistema a 2 utilizar\n",
    "\n",
    "Funções objetivo:\n",
    "\n",
    "* Objetivo 1: Minimizar a taxa de falsos alarmes do sistema 1\n",
    "\n",
    "Min Falsos Alarmes = 10 - (X1 - 1)\n",
    "                \n",
    "Partindo de uma taxa de 10% de falsos alarmes para a versão mais básica do sistema 1, minimizam-se os falsos alarmes reduzindo 1% por cada versão mais evoluída que se vai introduzindo até à versão 9 em que a taxa de falsos alarmes será de 2%.\n",
    "\n",
    "* Objetivo 2: Minimizar a taxa de falsos alarmes do sistema 2\n",
    "\n",
    "Min Falsos Alarmes = 6 - (X2 - 1)\n",
    "              \n",
    "Partindo de uma taxa de 6% de falsos alarmes para a versão mais básica do sistema 2, minimizam-se os falsos alarmes reduzindo 1% por cada versão mais evoluída que se vai introduzindo até à versão 4 em que a taxa de falsos alarmes será de 3%.\n",
    "\n",
    "Sujeito às restrições:\n",
    "\n",
    "s.a.\n",
    "\n",
    "X1, X2 são variáveis inteiras\n",
    "\n",
    "1 <= X1 <= 9 (Versão do sistema 1 a escolher tendo em conta que existem apenas 9)\n",
    "\n",
    "1 <= X2 <= 4 (Versão do sistema 2 a escolher tendo em conta que existem apenas 4)\n",
    "\n",
    "90000 + 15000 * (X1 - 1) + 60000 + 30000 * (X2 - 1) <= 250000\n",
    "\n",
    "Restrição orçamental 1: Despesa total de aquisição, para os dois sistemas, não superior a 250000 euros\n",
    "\n",
    "15000 + (1500 * (X1 - 1)) + 9000 + (1200 * (X2 - 1)) <= 30000\n",
    "\n",
    "Restrição orçamental 2: Despesa de manutenção anual, para os dois sistemas, não superior a 30000 euros\n",
    "\n",
    "<b> Forma alternativa de apresentação do problema (juntando as duas funções objetivo): </b>\n",
    "\n",
    "Identificação das variáveis de decisão:\n",
    "\n",
    "X1 - Versão do sistema a 1 utilizar\n",
    "\n",
    "X2 - Versão do sistema a 2 utilizar\n",
    "\n",
    "Função objetivo:\n",
    "\n",
    "Objetivo: Minimizar a taxa de falsos alarmes dos sistemas 1 e 2\n",
    "\n",
    "Min Falsos Alarmes = 10 - (X1 - 1) + 6 - (X2 - 1)\n",
    "          \n",
    "s.a.\n",
    "\n",
    "X1, X2 são variáveis inteiras\n",
    "\n",
    "1 <= X1 <= 9 (Versão do sistema 1 a escolher tendo em conta que existem apenas 9)\n",
    "\n",
    "1 <= X2 <= 4 (Versão do sistema 2 a escolher tendo em conta que existem apenas 4)\n",
    "\n",
    "90000 + 15000 * (X1 - 1) + 60000 + 30000 * (X2 - 1) <= 250000\n",
    "\n",
    "Restrição orçamental 1: Despesa total de aquisição, para os dois sistemas, não superior a 250000 euros\n",
    "\n",
    "15000 + 1500 * (X1 - 1) + 9000 + 1200 * (X2 - 1) <= 30000\n",
    "\n",
    "Restrição orçamental 2: Despesa de manutenção anual, para os dois sistemas, não superior a 30000 euros"
   ]
  }
 ],
 "metadata": {
  "kernelspec": {
   "display_name": "Python 3 (ipykernel)",
   "language": "python",
   "name": "python3"
  },
  "language_info": {
   "codemirror_mode": {
    "name": "ipython",
    "version": 3
   },
   "file_extension": ".py",
   "mimetype": "text/x-python",
   "name": "python",
   "nbconvert_exporter": "python",
   "pygments_lexer": "ipython3",
   "version": "3.10.4"
  }
 },
 "nbformat": 4,
 "nbformat_minor": 5
}
